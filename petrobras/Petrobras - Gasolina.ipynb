{
 "cells": [
  {
   "cell_type": "markdown",
   "id": "62c24218",
   "metadata": {},
   "source": [
    "https://petrobras.com.br/pt/nossas-atividades/precos-de-venda-de-combustiveis/"
   ]
  },
  {
   "cell_type": "code",
   "execution_count": 8,
   "id": "d175c024",
   "metadata": {},
   "outputs": [],
   "source": [
    "import pandas as pd\n",
    "import tabula \n",
    "from urllib import request\n",
    "import os\n",
    "from bs4 import BeautifulSoup\n",
    "from urllib.request import urlopen\n",
    "from urllib.parse import urljoin\n",
    "import re\n",
    "from PyPDF2 import PdfFileReader\n",
    "import matplotlib.pyplot as plt\n",
    "import yfinance as yf"
   ]
  },
  {
   "cell_type": "code",
   "execution_count": 9,
   "id": "b3ab135c",
   "metadata": {},
   "outputs": [],
   "source": [
    "url = \"https://petrobras.com.br/pt/nossas-atividades/precos-de-venda-as-distribuidoras/gasolina-e-diesel/\"\n",
    "html = urlopen(url)\n",
    "bs = BeautifulSoup(html, \"html.parser\")\n",
    "\n",
    "# GASOLINA\n",
    "links = []\n",
    "for x in bs.find_all(\"a\", href = True):\n",
    "    if re.search(re.compile(\"gasolina\", flags = re.IGNORECASE), str(x)):\n",
    "        links.append(x[\"href\"])\n",
    "\n",
    "root = \"https://petrobras.com.br/\"\n",
    "\n",
    "link_final_gasolina = links[3][9:]\n",
    "link_gasolina = root + link_final_gasolina\n",
    "\n",
    "pag_pdf = tabula.read_pdf(link_gasolina, pages = \"all\", multiple_tables=True)#, pandas_options= {\"header\": None})"
   ]
  },
  {
   "cell_type": "markdown",
   "id": "7b336c07",
   "metadata": {},
   "source": [
    "TRATAMENTO"
   ]
  },
  {
   "cell_type": "code",
   "execution_count": 10,
   "id": "6188c1ac",
   "metadata": {},
   "outputs": [],
   "source": [
    "agrupado = pd.DataFrame()\n",
    "for dataframe in range(0,len(pag_pdf)):\n",
    "    if len(pag_pdf[dataframe]) > 70:        \n",
    "        df = pag_pdf[dataframe]\n",
    "        for line_num, line in enumerate(pag_pdf[dataframe].iloc[:,0]):\n",
    "            if line == \"LOCAL\":\n",
    "                linha_datas = df.iloc[line_num, :]\n",
    "        df2 = df.dropna(subset = [df.columns[0]])\n",
    "        df2.columns = linha_datas\n",
    "        df2 = df2.reset_index(drop = True)\n",
    "        df2.drop(0, axis = 0, inplace = True)\n",
    "        df3 = pd.melt(df2, id_vars = df2.columns[:2], value_vars = df2.columns[2:])\n",
    "        df3.columns = [\"LOCAL\", \"MODALIDADE\", \"DATA\", \"VALOR\"]\n",
    "        agrupado = pd.concat([agrupado, df3], axis = 0)"
   ]
  },
  {
   "cell_type": "code",
   "execution_count": 11,
   "id": "ea7191b7",
   "metadata": {},
   "outputs": [
    {
     "name": "stderr",
     "output_type": "stream",
     "text": [
      "C:/Users/MATHEU~1.VIZ/AppData/Local/Temp/xpython_33256/2266775821.py:3: FutureWarning: The default value of regex will change from True to False in a future version. In addition, single character regular expressions will *not* be treated as literal strings when regex=True.\n",
      "  agrupado.loc[:,\"VALOR\"] = agrupado[\"VALOR\"].str.replace(\".\", \"\")\n"
     ]
    }
   ],
   "source": [
    "agrupado.dropna(subset = [\"VALOR\"], inplace=True)\n",
    "\n",
    "agrupado.loc[:,\"VALOR\"] = agrupado[\"VALOR\"].str.replace(\".\", \"\")\n",
    "agrupado.loc[:,\"VALOR\"] = agrupado[\"VALOR\"].apply(lambda x: float(x.replace(\",\", \".\"))/1000)\n",
    "agrupado.loc[:,\"DATA\"] = agrupado[\"DATA\"].apply(lambda x: pd.to_datetime(x, format = \"%d.%m.%Y\"))"
   ]
  }
 ],
 "metadata": {
  "kernelspec": {
   "display_name": "Python 3.8 (XPython)",
   "language": "python",
   "name": "xpython"
  },
  "language_info": {
   "file_extension": ".py",
   "mimetype": "text/x-python",
   "name": "python",
   "version": "3.8.5"
  }
 },
 "nbformat": 4,
 "nbformat_minor": 5
}
