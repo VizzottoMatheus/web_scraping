{
 "cells": [
  {
   "cell_type": "code",
   "execution_count": 1,
   "id": "dee26976",
   "metadata": {},
   "outputs": [],
   "source": [
    "import pandas as pd\n",
    "import tabula \n",
    "from urllib import request\n",
    "import os\n",
    "from bs4 import BeautifulSoup\n",
    "from urllib.request import urlopen\n",
    "from urllib.parse import urljoin\n",
    "import re\n",
    "from PyPDF2 import PdfFileReader\n",
    "import matplotlib.pyplot as plt\n",
    "import yfinance as yf"
   ]
  },
  {
   "cell_type": "code",
   "execution_count": 2,
   "id": "4fb92a3f",
   "metadata": {},
   "outputs": [],
   "source": [
    "url = \"https://petrobras.com.br/pt/nossas-atividades/precos-de-venda-as-distribuidoras/gasolina-e-diesel/\"\n",
    "html = urlopen(url)\n",
    "bs = BeautifulSoup(html, \"html.parser\")\n",
    "\n",
    "# DIESEL\n",
    "links = []\n",
    "for x in bs.find_all(\"a\", href = True):\n",
    "    if re.search(re.compile(\"diesel\", flags = re.IGNORECASE), str(x)):\n",
    "        links.append(x[\"href\"])"
   ]
  },
  {
   "cell_type": "code",
   "execution_count": 3,
   "id": "72727b75",
   "metadata": {},
   "outputs": [],
   "source": [
    "root = \"https://petrobras.com.br/\"\n",
    "link_final_diesel = links[2][9:]\n",
    "link_diesel = root + link_final_diesel"
   ]
  },
  {
   "cell_type": "code",
   "execution_count": null,
   "id": "c470235c",
   "metadata": {},
   "outputs": [],
   "source": [
    "pag_pdf = tabula.read_pdf(link_diesel, pages = \"all\", multiple_tables=True)"
   ]
  },
  {
   "cell_type": "code",
   "execution_count": null,
   "id": "7d4f27db",
   "metadata": {},
   "outputs": [],
   "source": [
    "agrupado = pd.DataFrame()\n",
    "for dataframe in range(0,len(pag_pdf)):\n",
    "    \n",
    "    if len(pag_pdf[dataframe]) > 25:        \n",
    "        df = pag_pdf[dataframe]\n",
    "        \n",
    "        for line_num, line in enumerate(pag_pdf[dataframe].iloc[:,0]):\n",
    "            if line == \"LOCAL\":\n",
    "                linha_datas = df.iloc[line_num, :]\n",
    "        \n",
    "        df2 = df.dropna(subset = [df.columns[0]])\n",
    "#         print(linha_datas)\n",
    "#         print(df2.head(20))\n",
    "        try:\n",
    "            df2.columns = linha_datas\n",
    "        except:\n",
    "            print(f\"erro página {dataframe}\")\n",
    "            continue\n",
    "        df2 = df2.reset_index(drop = True)\n",
    "        df2.drop(0, axis = 0, inplace = True)\n",
    "        df3 = pd.melt(df2, id_vars = df2.columns[:2], value_vars = df2.columns[2:])\n",
    "        df3.columns = [\"LOCAL\", \"MODALIDADE\", \"DATA\", \"VALOR\"]\n",
    "        agrupado = pd.concat([agrupado, df3], axis = 0)"
   ]
  },
  {
   "cell_type": "code",
   "execution_count": null,
   "id": "3bc3b00f",
   "metadata": {},
   "outputs": [],
   "source": [
    "agrupado.dropna(subset = [\"VALOR\"], inplace=True)\n",
    "\n",
    "agrupado.loc[:,\"VALOR\"] = agrupado[\"VALOR\"].str.replace(\".\", \"\")\n",
    "agrupado.loc[:,\"VALOR\"] = agrupado[\"VALOR\"].apply(lambda x: float(x.replace(\",\", \".\"))/1000)\n",
    "agrupado.loc[:,\"DATA\"] = agrupado[\"DATA\"].apply(lambda x: pd.to_datetime(x, format = \"%d.%m.%Y\"))"
   ]
  },
  {
   "cell_type": "code",
   "execution_count": 60,
   "id": "f1f5e366",
   "metadata": {},
   "outputs": [],
   "source": [
    "agrupado_canoas = agrupado[agrupado[\"LOCAL\"] == \"Canoas (RS)\"]"
   ]
  },
  {
   "cell_type": "code",
   "execution_count": 62,
   "id": "603c2c2b",
   "metadata": {},
   "outputs": [],
   "source": [
    "agrupado_canoas_exa = agrupado_canoas[agrupado_canoas[\"MODALIDADE\"] == \"EXA\"]"
   ]
  },
  {
   "cell_type": "code",
   "execution_count": null,
   "id": "6f55df38",
   "metadata": {},
   "outputs": [],
   "source": [
    "agrupado_canoas_exa[\"PRODUTO\"] = 0\n",
    "\n",
    "for line_num, line in enumerate(agrupado_canoas_exa[\"DATA\"]):\n",
    "    data_corrente = line\n",
    "    try:\n",
    "        data_proxima = agrupado_canoas_exa.iloc[line_num + 1, 2]\n",
    "        if data_corrente < data_proxima:\n",
    "            agrupado_canoas_exa.iloc[line_num, 4] = \"S500\"\n",
    "    except:\n",
    "        continue"
   ]
  }
 ],
 "metadata": {
  "kernelspec": {
   "display_name": "Python 3",
   "language": "python",
   "name": "python3"
  },
  "language_info": {
   "codemirror_mode": {
    "name": "ipython",
    "version": 3
   },
   "file_extension": ".py",
   "mimetype": "text/x-python",
   "name": "python",
   "nbconvert_exporter": "python",
   "pygments_lexer": "ipython3",
   "version": "3.8.11"
  }
 },
 "nbformat": 4,
 "nbformat_minor": 5
}
