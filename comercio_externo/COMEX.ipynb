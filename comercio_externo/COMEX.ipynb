{
 "cells": [
  {
   "cell_type": "markdown",
   "metadata": {},
   "source": [
    "This script gets exports and imports data from Siscomex (http://siscomex.gov.br/)"
   ]
  },
  {
   "cell_type": "code",
   "execution_count": 1,
   "metadata": {},
   "outputs": [],
   "source": [
    "import requests\n",
    "from io import BytesIO\n",
    "import pandas as pd\n",
    "from zipfile import ZipFile\n",
    "import re\n",
    "\n",
    "import ssl\n",
    "ssl._create_default_https_context = ssl._create_unverified_context # certificado para download"
   ]
  },
  {
   "cell_type": "markdown",
   "metadata": {},
   "source": [
    "EXPORTAÇÕES"
   ]
  },
  {
   "cell_type": "code",
   "execution_count": 2,
   "metadata": {},
   "outputs": [
    {
     "name": "stderr",
     "output_type": "stream",
     "text": [
      "C:\\Users\\user\\anaconda3\\lib\\site-packages\\urllib3\\connectionpool.py:1013: InsecureRequestWarning: Unverified HTTPS request is being made to host 'balanca.economia.gov.br'. Adding certificate verification is strongly advised. See: https://urllib3.readthedocs.io/en/latest/advanced-usage.html#ssl-warnings\n",
      "  warnings.warn(\n"
     ]
    }
   ],
   "source": [
    "X = \"https://balanca.economia.gov.br/balanca/bd/comexstat-bd/ncm/EXP_COMPLETA.zip\"\n",
    "\n",
    "r = requests.get(X, verify = False)\n",
    "files = ZipFile(BytesIO(r.content))\n",
    "arquivo_x = files.namelist()[0]\n",
    "exportacoes = pd.read_csv(files.open(arquivo_x), encoding=\"latin1\", sep = \";\")"
   ]
  },
  {
   "cell_type": "markdown",
   "metadata": {},
   "source": [
    "IMPORTAÇÕES "
   ]
  },
  {
   "cell_type": "code",
   "execution_count": 4,
   "metadata": {},
   "outputs": [
    {
     "name": "stderr",
     "output_type": "stream",
     "text": [
      "C:\\Users\\user\\anaconda3\\lib\\site-packages\\urllib3\\connectionpool.py:1013: InsecureRequestWarning: Unverified HTTPS request is being made to host 'balanca.economia.gov.br'. Adding certificate verification is strongly advised. See: https://urllib3.readthedocs.io/en/latest/advanced-usage.html#ssl-warnings\n",
      "  warnings.warn(\n"
     ]
    }
   ],
   "source": [
    "M = \"https://balanca.economia.gov.br/balanca/bd/comexstat-bd/ncm/IMP_COMPLETA.zip\"\n",
    "r = requests.get(M, verify = False)\n",
    "files = ZipFile(BytesIO(r.content))\n",
    "arquivo_m = files.namelist()[0]\n",
    "importacoes = pd.read_csv(files.open(arquivo_m), encoding=\"latin1\", sep = \";\")"
   ]
  },
  {
   "cell_type": "markdown",
   "metadata": {},
   "source": [
    "CÓDIGOS"
   ]
  },
  {
   "cell_type": "code",
   "execution_count": 15,
   "metadata": {},
   "outputs": [],
   "source": [
    "path = \"https://balanca.economia.gov.br/balanca/bd/tabelas/NCM_SH.csv\"\n",
    "sh = pd.read_csv(path, sep = \";\", encoding = \"latin-1\")\n",
    "sh_desc = sh[[\"CO_SH6\", \"NO_SH6_POR\", \"NO_SH4_POR\", \"NO_SH2_POR\", \"NO_SEC_POR\"]]"
   ]
  },
  {
   "cell_type": "code",
   "execution_count": 18,
   "metadata": {},
   "outputs": [],
   "source": [
    "path = \"https://balanca.economia.gov.br/balanca/bd/tabelas/NCM.csv\"\n",
    "ncm = pd.read_csv(path, sep = \";\", encoding = \"latin-1\")\n",
    "ncm_desc = ncm[[\"CO_NCM\", \"NO_NCM_POR\", \"CO_SH6\"]]"
   ]
  },
  {
   "cell_type": "code",
   "execution_count": 7,
   "metadata": {},
   "outputs": [],
   "source": [
    "path = \"https://balanca.economia.gov.br/balanca/bd/tabelas/PAIS.csv\"\n",
    "paises = pd.read_csv(path, sep = \";\", encoding = \"latin-1\")\n",
    "paises_desc = paises[[\"CO_PAIS\", \"NO_PAIS\"]]"
   ]
  },
  {
   "cell_type": "markdown",
   "metadata": {},
   "source": [
    "AGREGANDO BASES"
   ]
  },
  {
   "cell_type": "code",
   "execution_count": 23,
   "metadata": {},
   "outputs": [],
   "source": [
    "exportacoes2 = pd.merge(exportacoes, ncm_desc, on = \"CO_NCM\", how = \"left\")\n",
    "exportacoes3 = pd.merge(exportacoes2, paises_desc, on = \"CO_PAIS\", how = \"left\")\n",
    "exportacoes4 = pd.merge(exportacoes3, sh_desc, on = \"CO_SH6\", how = \"left\")"
   ]
  },
  {
   "cell_type": "code",
   "execution_count": 25,
   "metadata": {},
   "outputs": [],
   "source": [
    "importacoes2 = pd.merge(importacoes, ncm_desc, on = \"CO_NCM\", how = \"left\")\n",
    "importacoes3 = pd.merge(importacoes2, paises_desc, on = \"CO_PAIS\", how = \"left\")\n",
    "importacoes4 = pd.merge(importacoes3, sh_desc, on = \"CO_SH6\", how = \"left\")"
   ]
  },
  {
   "cell_type": "markdown",
   "metadata": {},
   "source": [
    "SCRIPT POWER BI"
   ]
  },
  {
   "cell_type": "markdown",
   "metadata": {},
   "source": [
    "import requests\n",
    "from io import BytesIO\n",
    "import pandas as pd\n",
    "from zipfile import ZipFile\n",
    "import re\n",
    "import ssl\n",
    "ssl._create_default_https_context = ssl._create_unverified_context\n",
    "\n",
    "X = \"https://balanca.economia.gov.br/balanca/bd/comexstat-bd/ncm/EXP_COMPLETA.zip\"\n",
    "r = requests.get(X, verify = False)\n",
    "files = ZipFile(BytesIO(r.content))\n",
    "arquivo_x = files.namelist()[0]\n",
    "exportacoes = pd.read_csv(files.open(arquivo_x), encoding=\"latin1\", sep = \";\")\n",
    "\n",
    "M = \"https://balanca.economia.gov.br/balanca/bd/comexstat-bd/ncm/IMP_COMPLETA.zip\"\n",
    "r = requests.get(M, verify = False)\n",
    "files = ZipFile(BytesIO(r.content))\n",
    "arquivo_m = files.namelist()[0]\n",
    "importacoes = pd.read_csv(files.open(arquivo_m), encoding=\"latin1\", sep = \";\")\n",
    "\n",
    "path = \"https://balanca.economia.gov.br/balanca/bd/tabelas/NCM_SH.csv\"\n",
    "sh = pd.read_csv(path, sep = \";\", encoding = \"latin-1\")\n",
    "sh_desc = sh[[\"CO_SH6\", \"NO_SH6_POR\", \"NO_SH4_POR\", \"NO_SH2_POR\", \"NO_SEC_POR\"]]\n",
    "\n",
    "path = \"https://balanca.economia.gov.br/balanca/bd/tabelas/NCM.csv\"\n",
    "ncm = pd.read_csv(path, sep = \";\", encoding = \"latin-1\")\n",
    "ncm_desc = ncm[[\"CO_NCM\", \"NO_NCM_POR\", \"CO_SH6\"]]\n",
    "\n",
    "path = \"https://balanca.economia.gov.br/balanca/bd/tabelas/PAIS.csv\"\n",
    "paises = pd.read_csv(path, sep = \";\", encoding = \"latin-1\")\n",
    "paises_desc = paises[[\"CO_PAIS\", \"NO_PAIS\"]]\n",
    "\n",
    "exportacoes2 = pd.merge(exportacoes, ncm_desc, on = \"CO_NCM\", how = \"left\")\n",
    "exportacoes3 = pd.merge(exportacoes2, paises_desc, on = \"CO_PAIS\", how = \"left\")\n",
    "exportacoes4 = pd.merge(exportacoes3, sh_desc, on = \"CO_SH6\", how = \"left\")\n",
    "\n",
    "importacoes2 = pd.merge(importacoes, ncm_desc, on = \"CO_NCM\", how = \"left\")\n",
    "importacoes3 = pd.merge(importacoes2, paises_desc, on = \"CO_PAIS\", how = \"left\")\n",
    "importacoes4 = pd.merge(importacoes3, sh_desc, on = \"CO_SH6\", how = \"left\")"
   ]
  }
 ],
 "metadata": {
  "interpreter": {
   "hash": "6d46af94c2bbce495f1e668725902fa517c90b1782bcfe2fce0dd9868df553d3"
  },
  "kernelspec": {
   "display_name": "Python 3.8.8 64-bit ('base': conda)",
   "name": "python3"
  },
  "language_info": {
   "codemirror_mode": {
    "name": "ipython",
    "version": 3
   },
   "file_extension": ".py",
   "mimetype": "text/x-python",
   "name": "python",
   "nbconvert_exporter": "python",
   "pygments_lexer": "ipython3",
   "version": "3.8.8"
  },
  "orig_nbformat": 4
 },
 "nbformat": 4,
 "nbformat_minor": 2
}
